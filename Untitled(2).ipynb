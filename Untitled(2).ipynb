{
 "cells": [
  {
   "cell_type": "code",
   "execution_count": 34,
   "id": "0a9430cf-7499-4b0d-8dc2-1c46b3bbaffb",
   "metadata": {},
   "outputs": [],
   "source": [
    "import pandas as pd\n",
    "#import matplotlib.pyplot as plt\n",
    "import re"
   ]
  },
  {
   "cell_type": "code",
   "execution_count": 35,
   "id": "94722f11-d394-42ff-8316-549837c385b7",
   "metadata": {},
   "outputs": [],
   "source": [
    "import nltk\n",
    "from nltk.corpus import stopwords\n",
    "from nltk.stem import WordNetLemmatizer"
   ]
  },
  {
   "cell_type": "code",
   "execution_count": 36,
   "id": "2f6d693b-12e4-42bd-b3c6-2cd499ad0e5b",
   "metadata": {},
   "outputs": [],
   "source": [
    "from sklearn.feature_extraction.text import CountVectorizer\n",
    "from sklearn.model_selection import GridSearchCV\n",
    "from sklearn.ensemble import RandomForestClassifier"
   ]
  },
  {
   "cell_type": "code",
   "execution_count": 37,
   "id": "597faa92-e08e-426c-909a-a2171a9a0867",
   "metadata": {},
   "outputs": [],
   "source": [
    "from sklearn.metrics import accuracy_score,precision_score,recall_score,confusion_matrix,roc_curve,classification_report"
   ]
  },
  {
   "cell_type": "code",
   "execution_count": 38,
   "id": "127fd900-aef9-4b2f-ae2f-4b5e75cb85ea",
   "metadata": {},
   "outputs": [],
   "source": [
    "df_train = pd.read_csv(\"train.txt\",delimiter=';',names=['text','label'])\n",
    "df_val = pd.read_csv(\"val.txt\",delimiter=';',names=['text','label'])"
   ]
  },
  {
   "cell_type": "code",
   "execution_count": 39,
   "id": "144321a3-2906-49a7-9d27-e5c2687b8d00",
   "metadata": {},
   "outputs": [],
   "source": [
    "df = pd.concat([df_train,df_val])"
   ]
  },
  {
   "cell_type": "code",
   "execution_count": 40,
   "id": "5cc555c1-f9fe-4510-a41f-6dc5f8e38f6e",
   "metadata": {},
   "outputs": [
    {
     "name": "stdout",
     "output_type": "stream",
     "text": [
      "Shape of the DataFrame: (8004, 2)\n"
     ]
    }
   ],
   "source": [
    "print(\"Shape of the DataFrame:\",df.shape)"
   ]
  },
  {
   "cell_type": "code",
   "execution_count": 41,
   "id": "792d2676-7c9a-43f3-9b52-ebe2696361ca",
   "metadata": {},
   "outputs": [],
   "source": [
    "df.reset_index(inplace=True,drop=True)\n",
    "#dropbool, default False\n",
    "# Do not try to insert index into dataframe columns. This resets the index to the default integer index.\n",
    "#inplacebool, default False\n",
    "\n",
    " #   Modify the DataFrame in place (do not create a new object).\n"
   ]
  },
  {
   "cell_type": "code",
   "execution_count": 42,
   "id": "a1744003-f79b-4d74-8307-3ce62ea0f8d7",
   "metadata": {},
   "outputs": [
    {
     "data": {
      "text/html": [
       "<div>\n",
       "<style scoped>\n",
       "    .dataframe tbody tr th:only-of-type {\n",
       "        vertical-align: middle;\n",
       "    }\n",
       "\n",
       "    .dataframe tbody tr th {\n",
       "        vertical-align: top;\n",
       "    }\n",
       "\n",
       "    .dataframe thead th {\n",
       "        text-align: right;\n",
       "    }\n",
       "</style>\n",
       "<table border=\"1\" class=\"dataframe\">\n",
       "  <thead>\n",
       "    <tr style=\"text-align: right;\">\n",
       "      <th></th>\n",
       "      <th>text</th>\n",
       "      <th>label</th>\n",
       "    </tr>\n",
       "  </thead>\n",
       "  <tbody>\n",
       "    <tr>\n",
       "      <th>0</th>\n",
       "      <td>i didnt feel humiliated</td>\n",
       "      <td>sadness</td>\n",
       "    </tr>\n",
       "    <tr>\n",
       "      <th>1</th>\n",
       "      <td>i can go from feeling so hopeless to so damned...</td>\n",
       "      <td>sadness</td>\n",
       "    </tr>\n",
       "    <tr>\n",
       "      <th>2</th>\n",
       "      <td>im grabbing a minute to post i feel greedy wrong</td>\n",
       "      <td>anger</td>\n",
       "    </tr>\n",
       "    <tr>\n",
       "      <th>3</th>\n",
       "      <td>i am ever feeling nostalgic about the fireplac...</td>\n",
       "      <td>love</td>\n",
       "    </tr>\n",
       "    <tr>\n",
       "      <th>4</th>\n",
       "      <td>i am feeling grouchy</td>\n",
       "      <td>anger</td>\n",
       "    </tr>\n",
       "  </tbody>\n",
       "</table>\n",
       "</div>"
      ],
      "text/plain": [
       "                                                text    label\n",
       "0                            i didnt feel humiliated  sadness\n",
       "1  i can go from feeling so hopeless to so damned...  sadness\n",
       "2   im grabbing a minute to post i feel greedy wrong    anger\n",
       "3  i am ever feeling nostalgic about the fireplac...     love\n",
       "4                               i am feeling grouchy    anger"
      ]
     },
     "execution_count": 42,
     "metadata": {},
     "output_type": "execute_result"
    }
   ],
   "source": [
    "df.head()"
   ]
  },
  {
   "cell_type": "code",
   "execution_count": 43,
   "id": "63f4b3f6-063e-4ebb-91ca-7337ebd05ac3",
   "metadata": {},
   "outputs": [],
   "source": [
    "def custom_encoder(df):\n",
    "    df.replace(to_replace =\"surprise\", value =1, inplace=True)\n",
    "    df.replace(to_replace =\"love\", value =1, inplace=True)\n",
    "    df.replace(to_replace =\"joy\", value =1, inplace=True)\n",
    "    \n",
    "    df.replace(to_replace =\"fear\", value =0, inplace=True)\n",
    "    df.replace(to_replace =\"anger\", value =0, inplace=True)\n",
    "    df.replace(to_replace =\"sadness\", value =0, inplace=True)"
   ]
  },
  {
   "cell_type": "code",
   "execution_count": 44,
   "id": "75f69ad8-f71b-4e7c-9dd1-a14edb068265",
   "metadata": {},
   "outputs": [],
   "source": [
    "custom_encoder(df['label'])"
   ]
  },
  {
   "cell_type": "code",
   "execution_count": 45,
   "id": "279fae84-052a-4670-81e8-62a5c7ef798a",
   "metadata": {},
   "outputs": [
    {
     "data": {
      "text/html": [
       "<div>\n",
       "<style scoped>\n",
       "    .dataframe tbody tr th:only-of-type {\n",
       "        vertical-align: middle;\n",
       "    }\n",
       "\n",
       "    .dataframe tbody tr th {\n",
       "        vertical-align: top;\n",
       "    }\n",
       "\n",
       "    .dataframe thead th {\n",
       "        text-align: right;\n",
       "    }\n",
       "</style>\n",
       "<table border=\"1\" class=\"dataframe\">\n",
       "  <thead>\n",
       "    <tr style=\"text-align: right;\">\n",
       "      <th></th>\n",
       "      <th>text</th>\n",
       "      <th>label</th>\n",
       "    </tr>\n",
       "  </thead>\n",
       "  <tbody>\n",
       "    <tr>\n",
       "      <th>0</th>\n",
       "      <td>i didnt feel humiliated</td>\n",
       "      <td>0</td>\n",
       "    </tr>\n",
       "    <tr>\n",
       "      <th>1</th>\n",
       "      <td>i can go from feeling so hopeless to so damned...</td>\n",
       "      <td>0</td>\n",
       "    </tr>\n",
       "    <tr>\n",
       "      <th>2</th>\n",
       "      <td>im grabbing a minute to post i feel greedy wrong</td>\n",
       "      <td>0</td>\n",
       "    </tr>\n",
       "    <tr>\n",
       "      <th>3</th>\n",
       "      <td>i am ever feeling nostalgic about the fireplac...</td>\n",
       "      <td>1</td>\n",
       "    </tr>\n",
       "    <tr>\n",
       "      <th>4</th>\n",
       "      <td>i am feeling grouchy</td>\n",
       "      <td>0</td>\n",
       "    </tr>\n",
       "  </tbody>\n",
       "</table>\n",
       "</div>"
      ],
      "text/plain": [
       "                                                text  label\n",
       "0                            i didnt feel humiliated      0\n",
       "1  i can go from feeling so hopeless to so damned...      0\n",
       "2   im grabbing a minute to post i feel greedy wrong      0\n",
       "3  i am ever feeling nostalgic about the fireplac...      1\n",
       "4                               i am feeling grouchy      0"
      ]
     },
     "execution_count": 45,
     "metadata": {},
     "output_type": "execute_result"
    }
   ],
   "source": [
    "df.head()"
   ]
  },
  {
   "cell_type": "code",
   "execution_count": 46,
   "id": "7d3c2b06-12d0-49c7-90eb-1b1712cfde40",
   "metadata": {},
   "outputs": [],
   "source": [
    "#object of WordNetLemmatizer\n",
    "lm = WordNetLemmatizer()"
   ]
  },
  {
   "cell_type": "code",
   "execution_count": 47,
   "id": "33921a2c-fcc2-45a4-8d61-0df1afa90564",
   "metadata": {},
   "outputs": [],
   "source": [
    "def text_transformation(df_col):\n",
    "    corpus = []\n",
    "    for item in df_col:\n",
    "        new_item = re.sub('[^a-zA-Z]',' ',str(item))\n",
    "        new_item = new_item.lower()\n",
    "        new_item = new_item.split()\n",
    "        new_item = [lm.lemmatize(word) for word in new_item if word not in set(stopwords.words('english'))]\n",
    "        corpus.append(' '.join(str(x) for x in new_item))\n",
    "    return corpus"
   ]
  },
  {
   "cell_type": "code",
   "execution_count": 48,
   "id": "c6a0f03a-02ed-44a6-aaf0-f5a12b6a2548",
   "metadata": {},
   "outputs": [],
   "source": [
    "corpus = text_transformation(df['text'])"
   ]
  },
  {
   "cell_type": "code",
   "execution_count": null,
   "id": "b760e609-a80a-4f3a-81e7-18f9a7649241",
   "metadata": {},
   "outputs": [],
   "source": []
  },
  {
   "cell_type": "code",
   "execution_count": 50,
   "id": "525c571c-e060-4da0-85d4-dc13c0484bc5",
   "metadata": {},
   "outputs": [],
   "source": [
    "from sklearn.feature_extraction.text import CountVectorizer"
   ]
  },
  {
   "cell_type": "code",
   "execution_count": 51,
   "id": "fd66552d-5ebb-4ecd-a070-15ba5d6ea49c",
   "metadata": {},
   "outputs": [],
   "source": [
    "cv = CountVectorizer(ngram_range=(1,2))\n",
    "traindata = cv.fit_transform(corpus)"
   ]
  },
  {
   "cell_type": "code",
   "execution_count": 52,
   "id": "17437f22-98a2-46ac-8b6c-41fafba77b25",
   "metadata": {},
   "outputs": [],
   "source": [
    "X = traindata\n",
    "y = df.label"
   ]
  },
  {
   "cell_type": "code",
   "execution_count": 53,
   "id": "737a869c-1164-4862-b5f5-224cc42350cc",
   "metadata": {},
   "outputs": [],
   "source": [
    "parameters = {'max_features': ('auto','sqrt'),\n",
    "             'n_estimators': [500, 1000],\n",
    "             'max_depth': [10, None],\n",
    "             'min_samples_split': [5],\n",
    "             'min_samples_leaf': [1],\n",
    "             'bootstrap': [True]}"
   ]
  },
  {
   "cell_type": "code",
   "execution_count": 54,
   "id": "f66da947-7691-41ad-8121-9097a66dc913",
   "metadata": {},
   "outputs": [
    {
     "data": {
      "text/plain": [
       "{'bootstrap': True,\n",
       " 'max_depth': None,\n",
       " 'max_features': 'sqrt',\n",
       " 'min_samples_leaf': 1,\n",
       " 'min_samples_split': 5,\n",
       " 'n_estimators': 500}"
      ]
     },
     "execution_count": 54,
     "metadata": {},
     "output_type": "execute_result"
    }
   ],
   "source": [
    "grid_search = GridSearchCV(RandomForestClassifier(),parameters,cv=5,return_train_score=True,n_jobs=-1)\n",
    "grid_search.fit(X,y)\n",
    "grid_search.best_params_"
   ]
  },
  {
   "cell_type": "code",
   "execution_count": null,
   "id": "22a06ac1-80ea-4ff5-9da9-1123df6f774c",
   "metadata": {},
   "outputs": [],
   "source": []
  },
  {
   "cell_type": "code",
   "execution_count": 76,
   "id": "364c1bd2-119f-4c63-ae9f-bd471687c3e6",
   "metadata": {},
   "outputs": [],
   "source": [
    "rfc = RandomForestClassifier(max_features=grid_search.best_params_['max_features'],\n",
    "                                      max_depth=grid_search.best_params_['max_depth'],\n",
    "                                      n_estimators=grid_search.best_params_['n_estimators'],\n",
    "                                      min_samples_split=grid_search.best_params_['min_samples_split'],\n",
    "                                      min_samples_leaf=grid_search.best_params_['min_samples_leaf'],\n",
    "                                      bootstrap=grid_search.best_params_['bootstrap'])"
   ]
  },
  {
   "cell_type": "code",
   "execution_count": 77,
   "id": "2968268e-39bd-4f68-a6b3-2b25207ef788",
   "metadata": {},
   "outputs": [
    {
     "data": {
      "text/plain": [
       "RandomForestClassifier(max_features='sqrt', min_samples_split=5,\n",
       "                       n_estimators=500)"
      ]
     },
     "execution_count": 77,
     "metadata": {},
     "output_type": "execute_result"
    }
   ],
   "source": [
    "rfc.fit(X,y)"
   ]
  },
  {
   "cell_type": "code",
   "execution_count": 78,
   "id": "eedee8e6-a05c-4b44-86ad-973c51a32207",
   "metadata": {},
   "outputs": [],
   "source": [
    "test_df = pd.read_csv('test.txt',delimiter=';',names=['text','label'])"
   ]
  },
  {
   "cell_type": "code",
   "execution_count": 79,
   "id": "7b73f5b8-a4df-4ec1-96ed-a64facadd6cb",
   "metadata": {},
   "outputs": [],
   "source": [
    "X_test,y_test = test_df.text,test_df.label\n",
    "#encode the labels into two classes , 0 and 1\n",
    "test_df = custom_encoder(y_test)\n",
    "#pre-processing of text\n",
    "test_corpus = text_transformation(X_test)\n",
    "#convert text data into vectors\n",
    "testdata = cv.transform(test_corpus)\n",
    "#predict the target\n",
    "predictions = rfc.predict(testdata)"
   ]
  },
  {
   "cell_type": "code",
   "execution_count": 80,
   "id": "33dea4c6-2230-4304-9447-54a9d174b1db",
   "metadata": {},
   "outputs": [
    {
     "name": "stdout",
     "output_type": "stream",
     "text": [
      "Accuracy_score:  0.941\n"
     ]
    }
   ],
   "source": [
    "acc_score = accuracy_score(y_test,predictions)\n",
    "\n",
    "print('Accuracy_score: ',acc_score)\n",
    "\n"
   ]
  },
  {
   "cell_type": "code",
   "execution_count": 81,
   "id": "dd96f8a1-be3c-4a95-bdf7-4bf0d8feaaa4",
   "metadata": {},
   "outputs": [],
   "source": [
    "predictions_probability = rfc.predict_proba(testdata)"
   ]
  },
  {
   "cell_type": "code",
   "execution_count": 82,
   "id": "cf261930-a729-4e61-9fa7-40764013d242",
   "metadata": {},
   "outputs": [
    {
     "data": {
      "image/png": "[encoded data removed]",
      "text/plain": [
       "<Figure size 720x360 with 1 Axes>"
      ]
     },
     "metadata": {},
     "output_type": "display_data"
    }
   ],
   "source": [
    "fpr,tpr,thresholds = roc_curve(y_test,predictions_probability[:,1])\n",
    "plt.plot(fpr,tpr)\n",
    "plt.plot([0,1])\n",
    "plt.title('ROC Curve')\n",
    "plt.xlabel('False Positive Rate')\n",
    "plt.ylabel('True Positive Rate')\n",
    "plt.show()"
   ]
  },
  {
   "cell_type": "code",
   "execution_count": 83,
   "id": "8ac38074-264d-4d96-8fe6-3c1c2ece8c67",
   "metadata": {},
   "outputs": [],
   "source": [
    "def expression_check(prediction_input):\n",
    "    if prediction_input == 0:\n",
    "        print(\"Input statement has Negative Sentiment.\")\n",
    "    elif prediction_input == 1:\n",
    "        print(\"Input statement has Positive Sentiment.\")\n",
    "    else:\n",
    "        print(\"Invalid Statement.\")"
   ]
  },
  {
   "cell_type": "code",
   "execution_count": 84,
   "id": "229ae1e7-1e34-4a0e-9faa-a756fb10530e",
   "metadata": {},
   "outputs": [],
   "source": [
    "def sentiment_predictor(input):\n",
    "    input = text_transformation(input)\n",
    "    transformed_input = cv.transform(input)\n",
    "    prediction = rfc.predict(transformed_input)\n",
    "    expression_check(prediction)"
   ]
  },
  {
   "cell_type": "code",
   "execution_count": 1,
   "id": "17258599-29d6-4280-bc24-89fda48b20b4",
   "metadata": {},
   "outputs": [
    {
     "ename": "NameError",
     "evalue": "name 'sentiment_predictor' is not defined",
     "output_type": "error",
     "traceback": [
      "\u001b[1;31m---------------------------------------------------------------------------\u001b[0m",
      "\u001b[1;31mNameError\u001b[0m                                 Traceback (most recent call last)",
      "\u001b[1;32m<ipython-input-1-5384d4984b1d>\u001b[0m in \u001b[0;36m<module>\u001b[1;34m\u001b[0m\n\u001b[0;32m      1\u001b[0m \u001b[0minput1\u001b[0m \u001b[1;33m=\u001b[0m \u001b[1;33m[\u001b[0m\u001b[1;34m\" i love my freind\"\u001b[0m\u001b[1;33m]\u001b[0m\u001b[1;33m\u001b[0m\u001b[1;33m\u001b[0m\u001b[0m\n\u001b[0;32m      2\u001b[0m \u001b[0minput2\u001b[0m \u001b[1;33m=\u001b[0m \u001b[1;33m[\u001b[0m\u001b[1;34m\" i love  my brother\"\u001b[0m\u001b[1;33m]\u001b[0m\u001b[1;33m\u001b[0m\u001b[1;33m\u001b[0m\u001b[0m\n\u001b[1;32m----> 3\u001b[1;33m \u001b[0msentiment_predictor\u001b[0m\u001b[1;33m(\u001b[0m\u001b[0minput1\u001b[0m\u001b[1;33m)\u001b[0m\u001b[1;33m\u001b[0m\u001b[1;33m\u001b[0m\u001b[0m\n\u001b[0m\u001b[0;32m      4\u001b[0m \u001b[0msentiment_predictor\u001b[0m\u001b[1;33m(\u001b[0m\u001b[0minput2\u001b[0m\u001b[1;33m)\u001b[0m\u001b[1;33m\u001b[0m\u001b[1;33m\u001b[0m\u001b[0m\n",
      "\u001b[1;31mNameError\u001b[0m: name 'sentiment_predictor' is not defined"
     ]
    }
   ],
   "source": [
    "input1 = [\" i love my freind\"]\n",
    "input2 = [\" i love  my brother\"]\n",
    "sentiment_predictor(input1)\n",
    "sentiment_predictor(input2)"
   ]
  },
  {
   "cell_type": "code",
   "execution_count": null,
   "id": "2a9fab8f",
   "metadata": {},
   "outputs": [],
   "source": []
  }
 ],
 "metadata": {
  "kernelspec": {
   "display_name": "Python 3",
   "language": "python",
   "name": "python3"
  },
  "language_info": {
   "codemirror_mode": {
    "name": "ipython",
    "version": 3
   },
   "file_extension": ".py",
   "mimetype": "text/x-python",
   "name": "python",
   "nbconvert_exporter": "python",
   "pygments_lexer": "ipython3",
   "version": "3.6.13"
  }
 },
 "nbformat": 4,
 "nbformat_minor": 5
}
