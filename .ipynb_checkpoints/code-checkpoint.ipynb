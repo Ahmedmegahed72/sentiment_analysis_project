{
 "cells": [
  {
   "cell_type": "code",
   "execution_count": null,
   "id": "0a9430cf-7499-4b0d-8dc2-1c46b3bbaffb",
   "metadata": {},
   "outputs": [],
   "source": [
    "import pandas as pd\n",
    "import seaborn as sns\n",
    "import matplotlib.pyplot as plt\n",
    "from wordcloud import WordCloud\n",
    "import re"
   ]
  },
  {
   "cell_type": "code",
   "execution_count": null,
   "id": "9a4ca4a5-7dd6-4e46-8eb6-5936cc8a6ba0",
   "metadata": {},
   "outputs": [],
   "source": [
    "from matplotlib import style,rcParams\n",
    "style.use('seaborn-white')\n",
    "rcParams['figure.figsize'] = 10,5\n",
    "import warnings\n",
    "warnings.filterwarnings('ignore')"
   ]
  },
  {
   "cell_type": "code",
   "execution_count": null,
   "id": "94722f11-d394-42ff-8316-549837c385b7",
   "metadata": {},
   "outputs": [],
   "source": [
    "import nltk\n",
    "from nltk.corpus import stopwords\n",
    "from nltk.stem import WordNetLemmatizer"
   ]
  },
  {
   "cell_type": "code",
   "execution_count": null,
   "id": "2f6d693b-12e4-42bd-b3c6-2cd499ad0e5b",
   "metadata": {},
   "outputs": [],
   "source": [
    "from sklearn.feature_extraction.text import CountVectorizer\n",
    "from sklearn.model_selection import GridSearchCV\n",
    "from sklearn.ensemble import RandomForestClassifier"
   ]
  },
  {
   "cell_type": "code",
   "execution_count": null,
   "id": "597faa92-e08e-426c-909a-a2171a9a0867",
   "metadata": {},
   "outputs": [],
   "source": [
    "from sklearn.metrics import accuracy_score,precision_score,recall_score,confusion_matrix,roc_curve,classification_report\n",
    "from scikitplot.metrics import plot_confusion_matrix"
   ]
  },
  {
   "cell_type": "code",
   "execution_count": null,
   "id": "127fd900-aef9-4b2f-ae2f-4b5e75cb85ea",
   "metadata": {},
   "outputs": [],
   "source": [
    "df_train = pd.read_csv(\"train.txt\",delimiter=';',names=['text','label'])\n",
    "df_val = pd.read_csv(\"val.txt\",delimiter=';',names=['text','label'])"
   ]
  },
  {
   "cell_type": "code",
   "execution_count": null,
   "id": "144321a3-2906-49a7-9d27-e5c2687b8d00",
   "metadata": {},
   "outputs": [],
   "source": [
    "df = pd.concat([df_train,df_val])"
   ]
  },
  {
   "cell_type": "code",
   "execution_count": null,
   "id": "5cc555c1-f9fe-4510-a41f-6dc5f8e38f6e",
   "metadata": {},
   "outputs": [],
   "source": [
    "print(\"Shape of the DataFrame:\",df.shape)"
   ]
  },
  {
   "cell_type": "code",
   "execution_count": null,
   "id": "792d2676-7c9a-43f3-9b52-ebe2696361ca",
   "metadata": {},
   "outputs": [],
   "source": [
    "df.reset_index(inplace=True,drop=True)"
   ]
  },
  {
   "cell_type": "code",
   "execution_count": null,
   "id": "a1744003-f79b-4d74-8307-3ce62ea0f8d7",
   "metadata": {},
   "outputs": [],
   "source": [
    "df.head()"
   ]
  },
  {
   "cell_type": "code",
   "execution_count": null,
   "id": "c7aba1ab-86b7-48e6-9488-76ca2e0d76eb",
   "metadata": {},
   "outputs": [],
   "source": [
    "sns.countplot(df.label)"
   ]
  },
  {
   "cell_type": "code",
   "execution_count": null,
   "id": "63f4b3f6-063e-4ebb-91ca-7337ebd05ac3",
   "metadata": {},
   "outputs": [],
   "source": [
    "def custom_encoder(df):\n",
    "    df.replace(to_replace =\"surprise\", value =1, inplace=True)\n",
    "    df.replace(to_replace =\"love\", value =1, inplace=True)\n",
    "    df.replace(to_replace =\"joy\", value =1, inplace=True)\n",
    "    df.replace(to_replace =\"fear\", value =0, inplace=True)\n",
    "    df.replace(to_replace =\"anger\", value =0, inplace=True)\n",
    "    df.replace(to_replace =\"sadness\", value =0, inplace=True)"
   ]
  },
  {
   "cell_type": "code",
   "execution_count": null,
   "id": "75f69ad8-f71b-4e7c-9dd1-a14edb068265",
   "metadata": {},
   "outputs": [],
   "source": [
    "custom_encoder(df['label'])"
   ]
  },
  {
   "cell_type": "code",
   "execution_count": null,
   "id": "b4b90ad8-19bf-46c1-bb2e-86931c0f90de",
   "metadata": {},
   "outputs": [],
   "source": [
    "sns.countplot(df.label)"
   ]
  },
  {
   "cell_type": "code",
   "execution_count": null,
   "id": "279fae84-052a-4670-81e8-62a5c7ef798a",
   "metadata": {},
   "outputs": [],
   "source": [
    "df.head()"
   ]
  },
  {
   "cell_type": "code",
   "execution_count": null,
   "id": "7d3c2b06-12d0-49c7-90eb-1b1712cfde40",
   "metadata": {},
   "outputs": [],
   "source": [
    "#object of WordNetLemmatizer\n",
    "lm = WordNetLemmatizer()"
   ]
  },
  {
   "cell_type": "code",
   "execution_count": null,
   "id": "33921a2c-fcc2-45a4-8d61-0df1afa90564",
   "metadata": {},
   "outputs": [],
   "source": [
    "def text_transformation(df_col):\n",
    "    corpus = []\n",
    "    for item in df_col:\n",
    "        new_item = re.sub('[^a-zA-Z]',' ',str(item))\n",
    "        new_item = new_item.lower()\n",
    "        new_item = new_item.split()\n",
    "        new_item = [lm.lemmatize(word) for word in new_item if word not in set(stopwords.words('english'))]\n",
    "        corpus.append(' '.join(str(x) for x in new_item))\n",
    "    return corpus"
   ]
  },
  {
   "cell_type": "code",
   "execution_count": null,
   "id": "c6a0f03a-02ed-44a6-aaf0-f5a12b6a2548",
   "metadata": {},
   "outputs": [],
   "source": [
    "corpus = text_transformation(df['text'])"
   ]
  },
  {
   "cell_type": "code",
   "execution_count": 24,
   "id": "b6718f1e-efd9-4671-8cd6-cdca41e3cf60",
   "metadata": {},
   "outputs": [
    {
     "data": {
      "text/plain": [
       "True"
      ]
     },
     "execution_count": 24,
     "metadata": {},
     "output_type": "execute_result"
    }
   ],
   "source": [
    "import nltk\n",
    "nltk.download('omw-1.4')"
   ]
  },
  {
   "cell_type": "code",
   "execution_count": null,
   "id": "b760e609-a80a-4f3a-81e7-18f9a7649241",
   "metadata": {},
   "outputs": [],
   "source": [
    "rcParams['figure.figsize'] = 20,8\n",
    "word_cloud = \"\"\n",
    "for row in corpus:\n",
    "    for word in row:\n",
    "        word_cloud+=\" \".join(word)\n",
    "\n",
    "wordcloud = WordCloud(width = 1000, height = 500,background_color ='white',min_font_size = 10).generate(word_cloud)\n",
    "plt.imshow(wordcloud)"
   ]
  },
  {
   "cell_type": "code",
   "execution_count": null,
   "id": "525c571c-e060-4da0-85d4-dc13c0484bc5",
   "metadata": {},
   "outputs": [],
   "source": [
    "from sklearn.feature_extraction.text import CountVectorizer"
   ]
  },
  {
   "cell_type": "code",
   "execution_count": null,
   "id": "fd66552d-5ebb-4ecd-a070-15ba5d6ea49c",
   "metadata": {},
   "outputs": [],
   "source": [
    "cv = CountVectorizer(ngram_range=(1,2))\n",
    "traindata = cv.fit_transform(corpus)"
   ]
  },
  {
   "cell_type": "code",
   "execution_count": null,
   "id": "17437f22-98a2-46ac-8b6c-41fafba77b25",
   "metadata": {},
   "outputs": [],
   "source": [
    "X = traindata\n",
    "y = df.label"
   ]
  },
  {
   "cell_type": "code",
   "execution_count": null,
   "id": "737a869c-1164-4862-b5f5-224cc42350cc",
   "metadata": {},
   "outputs": [],
   "source": [
    "parameters = {'max_features': ('auto','sqrt'),\n",
    "             'n_estimators': [500, 1000],\n",
    "             'max_depth': [10, None],\n",
    "             'min_samples_split': [5],\n",
    "             'min_samples_leaf': [1],\n",
    "             'bootstrap': [True]}"
   ]
  },
  {
   "cell_type": "code",
   "execution_count": null,
   "id": "f66da947-7691-41ad-8121-9097a66dc913",
   "metadata": {},
   "outputs": [],
   "source": [
    "grid_search = GridSearchCV(RandomForestClassifier(),parameters,cv=5,return_train_score=True,n_jobs=-1)\n",
    "grid_search.fit(X,y)\n",
    "grid_search.best_params_"
   ]
  },
  {
   "cell_type": "code",
   "execution_count": null,
   "id": "22a06ac1-80ea-4ff5-9da9-1123df6f774c",
   "metadata": {},
   "outputs": [],
   "source": [
    "for i in range(6):\n",
    "    print('Parameters: ',grid_search.cv_results_['params'][i])\n",
    "    print('Mean Test Score: ',grid_search.cv_results_['mean_test_score'][i])\n",
    "    print('Rank: ',grid_search.cv_results_['rank_test_score'][i])"
   ]
  },
  {
   "cell_type": "code",
   "execution_count": null,
   "id": "364c1bd2-119f-4c63-ae9f-bd471687c3e6",
   "metadata": {},
   "outputs": [],
   "source": [
    "rfc = RandomForestClassifier(max_features=grid_search.best_params_['max_features'],\n",
    "                                      max_depth=grid_search.best_params_['max_depth'],\n",
    "                                      n_estimators=grid_search.best_params_['n_estimators'],\n",
    "                                      min_samples_split=grid_search.best_params_['min_samples_split'],\n",
    "                                      min_samples_leaf=grid_search.best_params_['min_samples_leaf'],\n",
    "                                      bootstrap=grid_search.best_params_['bootstrap'])"
   ]
  },
  {
   "cell_type": "code",
   "execution_count": null,
   "id": "2968268e-39bd-4f68-a6b3-2b25207ef788",
   "metadata": {},
   "outputs": [],
   "source": [
    "rfc.fit(X,y)"
   ]
  },
  {
   "cell_type": "code",
   "execution_count": null,
   "id": "eedee8e6-a05c-4b44-86ad-973c51a32207",
   "metadata": {},
   "outputs": [],
   "source": [
    "test_df = pd.read_csv('test.txt',delimiter=';',names=['text','label'])"
   ]
  },
  {
   "cell_type": "code",
   "execution_count": null,
   "id": "7b73f5b8-a4df-4ec1-96ed-a64facadd6cb",
   "metadata": {},
   "outputs": [],
   "source": [
    "X_test,y_test = test_df.text,test_df.label\n",
    "#encode the labels into two classes , 0 and 1\n",
    "test_df = custom_encoder(y_test)\n",
    "#pre-processing of text\n",
    "test_corpus = text_transformation(X_test)\n",
    "#convert text data into vectors\n",
    "testdata = cv.transform(test_corpus)\n",
    "#predict the target\n",
    "predictions = rfc.predict(testdata)"
   ]
  },
  {
   "cell_type": "code",
   "execution_count": null,
   "id": "33dea4c6-2230-4304-9447-54a9d174b1db",
   "metadata": {},
   "outputs": [],
   "source": [
    "rcParams['figure.figsize'] = 10,5\n",
    "plot_confusion_matrix(y_test,predictions)\n",
    "acc_score = accuracy_score(y_test,predictions)\n",
    "pre_score = precision_score(y_test,predictions)\n",
    "rec_score = recall_score(y_test,predictions)\n",
    "print('Accuracy_score: ',acc_score)\n",
    "print('Precision_score: ',pre_score)\n",
    "print('Recall_score: ',rec_score)\n",
    "print('-------------------------------------------------------------------')\n",
    "cr = classification_report(y_test,predictions)\n",
    "print(cr)"
   ]
  },
  {
   "cell_type": "code",
   "execution_count": null,
   "id": "dd96f8a1-be3c-4a95-bdf7-4bf0d8feaaa4",
   "metadata": {},
   "outputs": [],
   "source": [
    "predictions_probability = rfc.predict_proba(testdata)"
   ]
  },
  {
   "cell_type": "code",
   "execution_count": null,
   "id": "cf261930-a729-4e61-9fa7-40764013d242",
   "metadata": {},
   "outputs": [],
   "source": [
    "fpr,tpr,thresholds = roc_curve(y_test,predictions_probability[:,1])\n",
    "plt.plot(fpr,tpr)\n",
    "plt.plot([0,1])\n",
    "plt.title('ROC Curve')\n",
    "plt.xlabel('False Positive Rate')\n",
    "plt.ylabel('True Positive Rate')\n",
    "plt.show()"
   ]
  },
  {
   "cell_type": "code",
   "execution_count": null,
   "id": "8ac38074-264d-4d96-8fe6-3c1c2ece8c67",
   "metadata": {},
   "outputs": [],
   "source": [
    "def expression_check(prediction_input):\n",
    "    if prediction_input == 0:\n",
    "        print(\"Input statement has Negative Sentiment.\")\n",
    "    elif prediction_input == 1:\n",
    "        print(\"Input statement has Positive Sentiment.\")\n",
    "    else:\n",
    "        print(\"Invalid Statement.\")"
   ]
  },
  {
   "cell_type": "code",
   "execution_count": null,
   "id": "229ae1e7-1e34-4a0e-9faa-a756fb10530e",
   "metadata": {},
   "outputs": [],
   "source": [
    "def sentiment_predictor(input):\n",
    "    input = text_transformation(input)\n",
    "    transformed_input = cv.transform(input)\n",
    "    prediction = rfc.predict(transformed_input)\n",
    "    expression_check(prediction)"
   ]
  },
  {
   "cell_type": "code",
   "execution_count": null,
   "id": "17258599-29d6-4280-bc24-89fda48b20b4",
   "metadata": {},
   "outputs": [],
   "source": [
    "input1 = [\"Sometimes I just want to punch someone in the face.\"]\n",
    "input2 = [\"I bought a new phone and it's so good.\"]\n",
    "sentiment_predictor(input1)\n",
    "sentiment_predictor(input2)"
   ]
  }
 ],
 "metadata": {
  "kernelspec": {
   "display_name": "Python 3 (ipykernel)",
   "language": "python",
   "name": "python3"
  },
  "language_info": {
   "codemirror_mode": {
    "name": "ipython",
    "version": 3
   },
   "file_extension": ".py",
   "mimetype": "text/x-python",
   "name": "python",
   "nbconvert_exporter": "python",
   "pygments_lexer": "ipython3",
   "version": "3.8.8"
  }
 },
 "nbformat": 4,
 "nbformat_minor": 5
}
